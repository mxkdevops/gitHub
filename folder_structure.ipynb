{
  "nbformat": 4,
  "nbformat_minor": 0,
  "metadata": {
    "colab": {
      "provenance": [],
      "authorship_tag": "ABX9TyNPwtJDTgYvVRfsDA+wfOlW",
      "include_colab_link": true
    },
    "kernelspec": {
      "name": "python3",
      "display_name": "Python 3"
    },
    "language_info": {
      "name": "python"
    }
  },
  "cells": [
    {
      "cell_type": "markdown",
      "metadata": {
        "id": "view-in-github",
        "colab_type": "text"
      },
      "source": [
        "<a href=\"https://colab.research.google.com/github/mxkdevops/gitHub/blob/main/folder_structure.ipynb\" target=\"_parent\"><img src=\"https://colab.research.google.com/assets/colab-badge.svg\" alt=\"Open In Colab\"/></a>"
      ]
    },
    {
      "cell_type": "code",
      "execution_count": 4,
      "metadata": {
        "colab": {
          "base_uri": "https://localhost:8080/"
        },
        "id": "lnR0Y_1KsnUV",
        "outputId": "b96653b9-a473-4eb6-d904-5b9d52e93b31"
      },
      "outputs": [
        {
          "output_type": "stream",
          "name": "stdout",
          "text": [
            "Drive already mounted at /content/drive; to attempt to forcibly remount, call drive.mount(\"/content/drive\", force_remount=True).\n",
            "✅ Project structure created inside: /content/drive/MyDrive/\n"
          ]
        }
      ],
      "source": [
        "from google.colab import drive\n",
        "import os\n",
        "\n",
        "# Mount Google Drive\n",
        "drive.mount('/content/drive')\n",
        "\n",
        "# Define the root folder\n",
        "base_path = '/content/drive/MyDrive/'\n",
        "\n",
        "# Folder structure\n",
        "folders = [\n",
        "    \"AWS-AI-Freelance-Roadmap/Phase_0_Get_Ready/Goals_and_Planning\",\n",
        "    \"AWS-AI-Freelance-Roadmap/Phase_1_Foundation/Week_1\",\n",
        "    \"AWS-AI-Freelance-Roadmap/Phase_1_Foundation/Week_2\",\n",
        "    \"AWS-AI-Freelance-Roadmap/Phase_2_Projects/Week_3_Linux_Security/Project_1_Secure_Linux_Build/Diagrams\",\n",
        "    \"AWS-AI-Freelance-Roadmap/Phase_2_Projects/Week_4_IAM_VPC_EC2\",\n",
        "    \"AWS-AI-Freelance-Roadmap/Phase_2_Projects/Week_5_S3_CloudFront\",\n",
        "    \"AWS-AI-Freelance-Roadmap/Phase_2_Projects/Week_6_Bash_Scripting\",\n",
        "    \"AWS-AI-Freelance-Roadmap/Phase_2_Projects/Week_7_Python_AWS_SDK\",\n",
        "    \"AWS-AI-Freelance-Roadmap/Phase_2_Projects/Week_8_Terraform\",\n",
        "    \"AWS-AI-Freelance-Roadmap/Phase_2_Projects/Week_9_Ansible\",\n",
        "    \"AWS-AI-Freelance-Roadmap/Phase_2_Projects/Week_10_CICD\",\n",
        "    \"AWS-AI-Freelance-Roadmap/Phase_2_Projects/Week_11_Docker\",\n",
        "    \"AWS-AI-Freelance-Roadmap/Phase_2_Projects/Week_12_Jenkins\",\n",
        "    \"AWS-AI-Freelance-Roadmap/Phase_3_Portfolio/Static_Site\",\n",
        "    \"AWS-AI-Freelance-Roadmap/Phase_3_Portfolio/WordPress_Blog\",\n",
        "    \"AWS-AI-Freelance-Roadmap/Phase_3_Portfolio/Blog_Posts\",\n",
        "    \"AWS-AI-Freelance-Roadmap/Phase_3_Portfolio/About_Services_Pages\",\n",
        "    \"AWS-AI-Freelance-Roadmap/Phase_4_Client_Acquisition/Testimonials\",\n",
        "    \"AWS-AI-Freelance-Roadmap/Phase_4_Client_Acquisition/Case_Studies\",\n",
        "    \"AWS-AI-Freelance-Roadmap/AI_Projects/AI_Integrations/Chatbot_on_AWS\",\n",
        "    \"AWS-AI-Freelance-Roadmap/AI_Projects/AI_Integrations/AI_Cost_Analyzer\",\n",
        "    \"AWS-AI-Freelance-Roadmap/Docs/Blog_Writing/Blog_Templates\",\n",
        "    \"AWS-AI-Freelance-Roadmap/Docs/Portfolio_Content\",\n",
        "    \"AWS-AI-Freelance-Roadmap/Docs/Knowledge_Base/AWS\",\n",
        "    \"AWS-AI-Freelance-Roadmap/Docs/Knowledge_Base/Linux\",\n",
        "    \"AWS-AI-Freelance-Roadmap/Docs/Knowledge_Base/GitHub\",\n",
        "    \"AWS-AI-Freelance-Roadmap/Templates\",\n",
        "    \"AWS-AI-Freelance-Roadmap/Assets/Diagrams\",\n",
        "    \"AWS-AI-Freelance-Roadmap/Assets/Screenshots\",\n",
        "    \"AWS-AI-Freelance-Roadmap/Assets/Backup_Zips\"\n",
        "]\n",
        "\n",
        "def create_folder_structure(root, folders):\n",
        "    for folder in folders:\n",
        "        path = os.path.join(root, folder)\n",
        "        os.makedirs(path, exist_ok=True)\n",
        "        # Add README.md for weekly project folders\n",
        "        if \"Week_\" in folder:\n",
        "            readme_path = os.path.join(path, \"README.md\")\n",
        "            with open(readme_path, \"w\") as f:\n",
        "                f.write(f\"# {os.path.basename(folder)}\\n\\n\")\n",
        "                f.write(\"- Project goals:\\n\")\n",
        "                f.write(\"- Tools used:\\n\")\n",
        "                f.write(\"- Steps:\\n\")\n",
        "                f.write(\"- Screenshots/logs:\\n\")\n",
        "                f.write(\"- Lessons learned:\\n\")\n",
        "\n",
        "    print(f\"✅ Project structure created inside: {root}\")\n",
        "\n",
        "create_folder_structure(base_path, folders)"
      ]
    }
  ]
}